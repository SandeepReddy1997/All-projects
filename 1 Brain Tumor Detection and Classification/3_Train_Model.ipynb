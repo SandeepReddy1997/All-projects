{
 "cells": [
  {
   "cell_type": "code",
   "execution_count": 1,
   "metadata": {},
   "outputs": [],
   "source": [
    "%matplotlib inline\n",
    "import os\n",
    "import cv2 as cv\n",
    "import numpy as np\n",
    "import pandas as pd\n",
    "import pickle as pkl\n",
    "import matplotlib.pyplot as plt\n",
    "import itertools\n",
    "from sklearn.model_selection import train_test_split\n",
    "from sklearn.ensemble import RandomForestClassifier\n",
    "from sklearn.model_selection import train_test_split\n",
    "from sklearn.metrics import confusion_matrix\n",
    "from sklearn.metrics import classification_report\n",
    "from sklearn.metrics import accuracy_score\n",
    "from skimage.io import imread\n",
    "from skimage.feature import greycomatrix, greycoprops\n",
    "from sklearn import preprocessing\n",
    "import warnings\n",
    "warnings.filterwarnings('ignore')"
   ]
  },
  {
   "cell_type": "code",
   "execution_count": 2,
   "metadata": {},
   "outputs": [
    {
     "data": {
      "text/html": [
       "<div>\n",
       "<style scoped>\n",
       "    .dataframe tbody tr th:only-of-type {\n",
       "        vertical-align: middle;\n",
       "    }\n",
       "\n",
       "    .dataframe tbody tr th {\n",
       "        vertical-align: top;\n",
       "    }\n",
       "\n",
       "    .dataframe thead th {\n",
       "        text-align: right;\n",
       "    }\n",
       "</style>\n",
       "<table border=\"1\" class=\"dataframe\">\n",
       "  <thead>\n",
       "    <tr style=\"text-align: right;\">\n",
       "      <th></th>\n",
       "      <th>Contrast</th>\n",
       "      <th>Energy</th>\n",
       "      <th>Homogeneity</th>\n",
       "      <th>Correlation</th>\n",
       "      <th>Dissimilarity</th>\n",
       "      <th>ASM</th>\n",
       "      <th>Area</th>\n",
       "      <th>Perimeter</th>\n",
       "      <th>Epsilon</th>\n",
       "      <th>IsConvex</th>\n",
       "      <th>Class</th>\n",
       "    </tr>\n",
       "  </thead>\n",
       "  <tbody>\n",
       "    <tr>\n",
       "      <td>0</td>\n",
       "      <td>0.458577</td>\n",
       "      <td>0.964199</td>\n",
       "      <td>0.984987</td>\n",
       "      <td>0.911907</td>\n",
       "      <td>0.070014</td>\n",
       "      <td>0.929680</td>\n",
       "      <td>2.0</td>\n",
       "      <td>5.656854</td>\n",
       "      <td>0.565685</td>\n",
       "      <td>1.0</td>\n",
       "      <td>0</td>\n",
       "    </tr>\n",
       "    <tr>\n",
       "      <td>1</td>\n",
       "      <td>0.331137</td>\n",
       "      <td>0.983411</td>\n",
       "      <td>0.991778</td>\n",
       "      <td>0.841892</td>\n",
       "      <td>0.045642</td>\n",
       "      <td>0.967097</td>\n",
       "      <td>0.0</td>\n",
       "      <td>0.000000</td>\n",
       "      <td>0.000000</td>\n",
       "      <td>0.0</td>\n",
       "      <td>0</td>\n",
       "    </tr>\n",
       "    <tr>\n",
       "      <td>2</td>\n",
       "      <td>0.397629</td>\n",
       "      <td>0.963333</td>\n",
       "      <td>0.985258</td>\n",
       "      <td>0.922795</td>\n",
       "      <td>0.064784</td>\n",
       "      <td>0.928010</td>\n",
       "      <td>2.0</td>\n",
       "      <td>5.656854</td>\n",
       "      <td>0.565685</td>\n",
       "      <td>1.0</td>\n",
       "      <td>0</td>\n",
       "    </tr>\n",
       "    <tr>\n",
       "      <td>3</td>\n",
       "      <td>0.247455</td>\n",
       "      <td>0.985431</td>\n",
       "      <td>0.992373</td>\n",
       "      <td>0.850843</td>\n",
       "      <td>0.037936</td>\n",
       "      <td>0.971074</td>\n",
       "      <td>0.0</td>\n",
       "      <td>0.000000</td>\n",
       "      <td>0.000000</td>\n",
       "      <td>0.0</td>\n",
       "      <td>0</td>\n",
       "    </tr>\n",
       "    <tr>\n",
       "      <td>4</td>\n",
       "      <td>0.302476</td>\n",
       "      <td>0.981990</td>\n",
       "      <td>0.991358</td>\n",
       "      <td>0.875217</td>\n",
       "      <td>0.045188</td>\n",
       "      <td>0.964305</td>\n",
       "      <td>0.0</td>\n",
       "      <td>2.828427</td>\n",
       "      <td>0.282843</td>\n",
       "      <td>0.0</td>\n",
       "      <td>0</td>\n",
       "    </tr>\n",
       "    <tr>\n",
       "      <td>...</td>\n",
       "      <td>...</td>\n",
       "      <td>...</td>\n",
       "      <td>...</td>\n",
       "      <td>...</td>\n",
       "      <td>...</td>\n",
       "      <td>...</td>\n",
       "      <td>...</td>\n",
       "      <td>...</td>\n",
       "      <td>...</td>\n",
       "      <td>...</td>\n",
       "      <td>...</td>\n",
       "    </tr>\n",
       "    <tr>\n",
       "      <td>215</td>\n",
       "      <td>0.222315</td>\n",
       "      <td>0.990029</td>\n",
       "      <td>0.992963</td>\n",
       "      <td>0.678673</td>\n",
       "      <td>0.034937</td>\n",
       "      <td>0.980157</td>\n",
       "      <td>4.0</td>\n",
       "      <td>7.656854</td>\n",
       "      <td>0.765685</td>\n",
       "      <td>1.0</td>\n",
       "      <td>2</td>\n",
       "    </tr>\n",
       "    <tr>\n",
       "      <td>216</td>\n",
       "      <td>0.145746</td>\n",
       "      <td>0.995328</td>\n",
       "      <td>0.996571</td>\n",
       "      <td>0.554976</td>\n",
       "      <td>0.019700</td>\n",
       "      <td>0.990678</td>\n",
       "      <td>39.5</td>\n",
       "      <td>33.556349</td>\n",
       "      <td>3.355635</td>\n",
       "      <td>0.0</td>\n",
       "      <td>2</td>\n",
       "    </tr>\n",
       "    <tr>\n",
       "      <td>217</td>\n",
       "      <td>0.133508</td>\n",
       "      <td>0.993516</td>\n",
       "      <td>0.996323</td>\n",
       "      <td>0.826756</td>\n",
       "      <td>0.019038</td>\n",
       "      <td>0.987073</td>\n",
       "      <td>0.0</td>\n",
       "      <td>0.000000</td>\n",
       "      <td>0.000000</td>\n",
       "      <td>0.0</td>\n",
       "      <td>2</td>\n",
       "    </tr>\n",
       "    <tr>\n",
       "      <td>218</td>\n",
       "      <td>0.208647</td>\n",
       "      <td>0.992208</td>\n",
       "      <td>0.994923</td>\n",
       "      <td>0.753233</td>\n",
       "      <td>0.028347</td>\n",
       "      <td>0.984476</td>\n",
       "      <td>2.0</td>\n",
       "      <td>5.656854</td>\n",
       "      <td>0.565685</td>\n",
       "      <td>1.0</td>\n",
       "      <td>2</td>\n",
       "    </tr>\n",
       "    <tr>\n",
       "      <td>219</td>\n",
       "      <td>0.157252</td>\n",
       "      <td>0.995101</td>\n",
       "      <td>0.996253</td>\n",
       "      <td>0.657925</td>\n",
       "      <td>0.021827</td>\n",
       "      <td>0.990227</td>\n",
       "      <td>0.0</td>\n",
       "      <td>0.000000</td>\n",
       "      <td>0.000000</td>\n",
       "      <td>0.0</td>\n",
       "      <td>2</td>\n",
       "    </tr>\n",
       "  </tbody>\n",
       "</table>\n",
       "<p>220 rows × 11 columns</p>\n",
       "</div>"
      ],
      "text/plain": [
       "     Contrast    Energy  Homogeneity  Correlation  Dissimilarity       ASM  \\\n",
       "0    0.458577  0.964199     0.984987     0.911907       0.070014  0.929680   \n",
       "1    0.331137  0.983411     0.991778     0.841892       0.045642  0.967097   \n",
       "2    0.397629  0.963333     0.985258     0.922795       0.064784  0.928010   \n",
       "3    0.247455  0.985431     0.992373     0.850843       0.037936  0.971074   \n",
       "4    0.302476  0.981990     0.991358     0.875217       0.045188  0.964305   \n",
       "..        ...       ...          ...          ...            ...       ...   \n",
       "215  0.222315  0.990029     0.992963     0.678673       0.034937  0.980157   \n",
       "216  0.145746  0.995328     0.996571     0.554976       0.019700  0.990678   \n",
       "217  0.133508  0.993516     0.996323     0.826756       0.019038  0.987073   \n",
       "218  0.208647  0.992208     0.994923     0.753233       0.028347  0.984476   \n",
       "219  0.157252  0.995101     0.996253     0.657925       0.021827  0.990227   \n",
       "\n",
       "     Area  Perimeter   Epsilon  IsConvex  Class  \n",
       "0     2.0   5.656854  0.565685       1.0      0  \n",
       "1     0.0   0.000000  0.000000       0.0      0  \n",
       "2     2.0   5.656854  0.565685       1.0      0  \n",
       "3     0.0   0.000000  0.000000       0.0      0  \n",
       "4     0.0   2.828427  0.282843       0.0      0  \n",
       "..    ...        ...       ...       ...    ...  \n",
       "215   4.0   7.656854  0.765685       1.0      2  \n",
       "216  39.5  33.556349  3.355635       0.0      2  \n",
       "217   0.0   0.000000  0.000000       0.0      2  \n",
       "218   2.0   5.656854  0.565685       1.0      2  \n",
       "219   0.0   0.000000  0.000000       0.0      2  \n",
       "\n",
       "[220 rows x 11 columns]"
      ]
     },
     "execution_count": 2,
     "metadata": {},
     "output_type": "execute_result"
    }
   ],
   "source": [
    "data_as_frame = pd.read_csv(\"data.csv\")\n",
    "data_as_frame"
   ]
  },
  {
   "cell_type": "code",
   "execution_count": 3,
   "metadata": {},
   "outputs": [
    {
     "data": {
      "text/plain": [
       "array([0, 1, 2], dtype=int64)"
      ]
     },
     "execution_count": 3,
     "metadata": {},
     "output_type": "execute_result"
    }
   ],
   "source": [
    "data_as_frame['Class'].unique()"
   ]
  },
  {
   "cell_type": "code",
   "execution_count": 4,
   "metadata": {},
   "outputs": [
    {
     "name": "stdout",
     "output_type": "stream",
     "text": [
      "<class 'pandas.core.frame.DataFrame'>\n",
      "RangeIndex: 220 entries, 0 to 219\n",
      "Data columns (total 11 columns):\n",
      "Contrast         220 non-null float64\n",
      "Energy           220 non-null float64\n",
      "Homogeneity      220 non-null float64\n",
      "Correlation      220 non-null float64\n",
      "Dissimilarity    220 non-null float64\n",
      "ASM              220 non-null float64\n",
      "Area             220 non-null float64\n",
      "Perimeter        220 non-null float64\n",
      "Epsilon          220 non-null float64\n",
      "IsConvex         220 non-null float64\n",
      "Class            220 non-null int64\n",
      "dtypes: float64(10), int64(1)\n",
      "memory usage: 19.0 KB\n"
     ]
    }
   ],
   "source": [
    "data_as_frame.info()"
   ]
  },
  {
   "cell_type": "code",
   "execution_count": 5,
   "metadata": {},
   "outputs": [],
   "source": [
    "def nullAnalysis(df):\n",
    "    tab_info=pd.DataFrame(df.dtypes).T.rename(index={0:'column type'})\n",
    "\n",
    "    tab_info=tab_info.append(pd.DataFrame(df.isnull().sum()).T.rename(index={0:'null values (nb)'}))\n",
    "    tab_info=tab_info.append(pd.DataFrame(df.isnull().sum()/df.shape[0]*100).T.rename(index={0:'null values (%)'}))\n",
    "    return tab_info"
   ]
  },
  {
   "cell_type": "code",
   "execution_count": 6,
   "metadata": {},
   "outputs": [
    {
     "data": {
      "text/html": [
       "<div>\n",
       "<style scoped>\n",
       "    .dataframe tbody tr th:only-of-type {\n",
       "        vertical-align: middle;\n",
       "    }\n",
       "\n",
       "    .dataframe tbody tr th {\n",
       "        vertical-align: top;\n",
       "    }\n",
       "\n",
       "    .dataframe thead th {\n",
       "        text-align: right;\n",
       "    }\n",
       "</style>\n",
       "<table border=\"1\" class=\"dataframe\">\n",
       "  <thead>\n",
       "    <tr style=\"text-align: right;\">\n",
       "      <th></th>\n",
       "      <th>Contrast</th>\n",
       "      <th>Energy</th>\n",
       "      <th>Homogeneity</th>\n",
       "      <th>Correlation</th>\n",
       "      <th>Dissimilarity</th>\n",
       "      <th>ASM</th>\n",
       "      <th>Area</th>\n",
       "      <th>Perimeter</th>\n",
       "      <th>Epsilon</th>\n",
       "      <th>IsConvex</th>\n",
       "      <th>Class</th>\n",
       "    </tr>\n",
       "  </thead>\n",
       "  <tbody>\n",
       "    <tr>\n",
       "      <td>column type</td>\n",
       "      <td>float64</td>\n",
       "      <td>float64</td>\n",
       "      <td>float64</td>\n",
       "      <td>float64</td>\n",
       "      <td>float64</td>\n",
       "      <td>float64</td>\n",
       "      <td>float64</td>\n",
       "      <td>float64</td>\n",
       "      <td>float64</td>\n",
       "      <td>float64</td>\n",
       "      <td>int64</td>\n",
       "    </tr>\n",
       "    <tr>\n",
       "      <td>null values (nb)</td>\n",
       "      <td>0</td>\n",
       "      <td>0</td>\n",
       "      <td>0</td>\n",
       "      <td>0</td>\n",
       "      <td>0</td>\n",
       "      <td>0</td>\n",
       "      <td>0</td>\n",
       "      <td>0</td>\n",
       "      <td>0</td>\n",
       "      <td>0</td>\n",
       "      <td>0</td>\n",
       "    </tr>\n",
       "    <tr>\n",
       "      <td>null values (%)</td>\n",
       "      <td>0</td>\n",
       "      <td>0</td>\n",
       "      <td>0</td>\n",
       "      <td>0</td>\n",
       "      <td>0</td>\n",
       "      <td>0</td>\n",
       "      <td>0</td>\n",
       "      <td>0</td>\n",
       "      <td>0</td>\n",
       "      <td>0</td>\n",
       "      <td>0</td>\n",
       "    </tr>\n",
       "  </tbody>\n",
       "</table>\n",
       "</div>"
      ],
      "text/plain": [
       "                 Contrast   Energy Homogeneity Correlation Dissimilarity  \\\n",
       "column type       float64  float64     float64     float64       float64   \n",
       "null values (nb)        0        0           0           0             0   \n",
       "null values (%)         0        0           0           0             0   \n",
       "\n",
       "                      ASM     Area Perimeter  Epsilon IsConvex  Class  \n",
       "column type       float64  float64   float64  float64  float64  int64  \n",
       "null values (nb)        0        0         0        0        0      0  \n",
       "null values (%)         0        0         0        0        0      0  "
      ]
     },
     "execution_count": 6,
     "metadata": {},
     "output_type": "execute_result"
    }
   ],
   "source": [
    "nullAnalysis(data_as_frame)"
   ]
  },
  {
   "cell_type": "code",
   "execution_count": 7,
   "metadata": {},
   "outputs": [
    {
     "name": "stdout",
     "output_type": "stream",
     "text": [
      "['benign', 'malignant', 'no_tumor']\n"
     ]
    }
   ],
   "source": [
    "cm_plot_labels = ['benign', 'malignant', 'no_tumor']\n",
    "print(cm_plot_labels)"
   ]
  },
  {
   "cell_type": "code",
   "execution_count": 8,
   "metadata": {},
   "outputs": [],
   "source": [
    "X = data_as_frame.drop('Class', axis=1)\n",
    "Y = data_as_frame['Class']\n",
    "x_train, x_test, y_train, y_test = train_test_split(X, Y, test_size=0.05, random_state = 27)"
   ]
  },
  {
   "cell_type": "code",
   "execution_count": 9,
   "metadata": {},
   "outputs": [
    {
     "name": "stdout",
     "output_type": "stream",
     "text": [
      "(209, 10) (209,) (11, 10) (11,)\n"
     ]
    }
   ],
   "source": [
    "print(x_train.shape, y_train.shape, x_test.shape, y_test.shape)"
   ]
  },
  {
   "cell_type": "code",
   "execution_count": 10,
   "metadata": {},
   "outputs": [],
   "source": [
    "forest = RandomForestClassifier(n_estimators=50)"
   ]
  },
  {
   "cell_type": "code",
   "execution_count": 11,
   "metadata": {},
   "outputs": [
    {
     "data": {
      "text/plain": [
       "RandomForestClassifier(bootstrap=True, class_weight=None, criterion='gini',\n",
       "                       max_depth=None, max_features='auto', max_leaf_nodes=None,\n",
       "                       min_impurity_decrease=0.0, min_impurity_split=None,\n",
       "                       min_samples_leaf=1, min_samples_split=2,\n",
       "                       min_weight_fraction_leaf=0.0, n_estimators=50,\n",
       "                       n_jobs=None, oob_score=False, random_state=None,\n",
       "                       verbose=0, warm_start=False)"
      ]
     },
     "execution_count": 11,
     "metadata": {},
     "output_type": "execute_result"
    }
   ],
   "source": [
    "forest.fit(x_train,y_train)"
   ]
  },
  {
   "cell_type": "code",
   "execution_count": 12,
   "metadata": {},
   "outputs": [],
   "source": [
    "y_pred = forest.predict(x_test)"
   ]
  },
  {
   "cell_type": "code",
   "execution_count": 13,
   "metadata": {},
   "outputs": [
    {
     "data": {
      "text/plain": [
       "120    1\n",
       "125    1\n",
       "65     1\n",
       "171    2\n",
       "8      0\n",
       "109    1\n",
       "48     1\n",
       "90     1\n",
       "122    1\n",
       "214    2\n",
       "154    2\n",
       "Name: Class, dtype: int64"
      ]
     },
     "execution_count": 13,
     "metadata": {},
     "output_type": "execute_result"
    }
   ],
   "source": [
    "y_test"
   ]
  },
  {
   "cell_type": "code",
   "execution_count": 14,
   "metadata": {},
   "outputs": [
    {
     "data": {
      "text/plain": [
       "array([1, 1, 1, 2, 0, 1, 1, 1, 1, 2, 2], dtype=int64)"
      ]
     },
     "execution_count": 14,
     "metadata": {},
     "output_type": "execute_result"
    }
   ],
   "source": [
    "y_pred"
   ]
  },
  {
   "cell_type": "code",
   "execution_count": 15,
   "metadata": {},
   "outputs": [],
   "source": [
    "def plot_confusion_matrix(cm, classes,title='Confusion matrix'):\n",
    "    \n",
    "    plt.imshow(cm, interpolation='nearest', cmap='YlGnBu')\n",
    "    plt.title(title)\n",
    "    plt.colorbar()\n",
    "    tick_marks = np.arange(len(classes))\n",
    "    plt.xticks(tick_marks, classes, rotation=45)\n",
    "    plt.yticks(tick_marks, classes)\n",
    "    \n",
    "    \n",
    "    fmt = 'd'\n",
    "    thresh = cm.max() / 2.\n",
    "    for i, j in itertools.product(range(cm.shape[0]), range(cm.shape[1])):\n",
    "        plt.text(j, i, format(cm[i, j], fmt),\n",
    "                 horizontalalignment=\"center\",\n",
    "                 color=\"white\" if cm[i, j] > thresh else \"black\")\n",
    "\n",
    "    plt.ylabel('True label')\n",
    "    plt.xlabel('Predicted label')\n",
    "    plt.tight_layout()\n",
    "    plt.show()"
   ]
  },
  {
   "cell_type": "code",
   "execution_count": 16,
   "metadata": {},
   "outputs": [
    {
     "data": {
      "image/png": "[encoded data removed]",
      "text/plain": [
       "<Figure size 432x288 with 2 Axes>"
      ]
     },
     "metadata": {
      "needs_background": "light"
     },
     "output_type": "display_data"
    }
   ],
   "source": [
    "cm = confusion_matrix(y_true=y_test,y_pred=y_pred)\n",
    "plot_confusion_matrix(cm, cm_plot_labels,title='Confusion matrix')"
   ]
  },
  {
   "cell_type": "code",
   "execution_count": 17,
   "metadata": {},
   "outputs": [
    {
     "name": "stdout",
     "output_type": "stream",
     "text": [
      "              precision    recall  f1-score   support\n",
      "\n",
      "           0       1.00      1.00      1.00         1\n",
      "           1       1.00      1.00      1.00         7\n",
      "           2       1.00      1.00      1.00         3\n",
      "\n",
      "    accuracy                           1.00        11\n",
      "   macro avg       1.00      1.00      1.00        11\n",
      "weighted avg       1.00      1.00      1.00        11\n",
      "\n"
     ]
    }
   ],
   "source": [
    "print(classification_report(y_true=y_test,y_pred=y_pred))"
   ]
  },
  {
   "cell_type": "code",
   "execution_count": 18,
   "metadata": {},
   "outputs": [
    {
     "name": "stdout",
     "output_type": "stream",
     "text": [
      "Overall accuracy of training the model is : 100.000000\n"
     ]
    }
   ],
   "source": [
    "rf_acc = accuracy_score(y_true=y_test, y_pred= y_pred)\n",
    "print(\"Overall accuracy of training the model is : %f\" %(rf_acc*100))"
   ]
  },
  {
   "cell_type": "markdown",
   "metadata": {},
   "source": [
    "# Save model"
   ]
  },
  {
   "cell_type": "code",
   "execution_count": 19,
   "metadata": {},
   "outputs": [],
   "source": [
    "model_fname = 'model/rf_model.pkl'"
   ]
  },
  {
   "cell_type": "code",
   "execution_count": 20,
   "metadata": {},
   "outputs": [],
   "source": [
    "pkl.dump(forest,open(model_fname,'wb'))"
   ]
  },
  {
   "cell_type": "markdown",
   "metadata": {},
   "source": [
    "# Done"
   ]
  }
 ],
 "metadata": {
  "kernelspec": {
   "display_name": "Python 3",
   "language": "python",
   "name": "python3"
  },
  "language_info": {
   "codemirror_mode": {
    "name": "ipython",
    "version": 3
   },
   "file_extension": ".py",
   "mimetype": "text/x-python",
   "name": "python",
   "nbconvert_exporter": "python",
   "pygments_lexer": "ipython3",
   "version": "3.6.5"
  }
 },
 "nbformat": 4,
 "nbformat_minor": 2
}
