{
 "cells": [
  {
   "cell_type": "code",
   "execution_count": 1,
   "metadata": {},
   "outputs": [],
   "source": [
    "from skimage.io import imread\n",
    "from skimage.feature import greycomatrix, greycoprops\n",
    "from sklearn import preprocessing\n",
    "import numpy as np\n",
    "import pandas as pd\n",
    "import cv2 as cv\n",
    "import os\n",
    "import warnings\n",
    "warnings.filterwarnings('ignore')"
   ]
  },
  {
   "cell_type": "code",
   "execution_count": 2,
   "metadata": {},
   "outputs": [],
   "source": [
    "input_data_dir = '4.input'"
   ]
  },
  {
   "cell_type": "code",
   "execution_count": 3,
   "metadata": {},
   "outputs": [
    {
     "name": "stdout",
     "output_type": "stream",
     "text": [
      "Number of samples :  220\n"
     ]
    }
   ],
   "source": [
    "no_samples = 0\n",
    "labels = os.listdir(input_data_dir)\n",
    "for label in labels:\n",
    "    no_samples += len(os.listdir(os.path.join(input_data_dir,label)))\n",
    "print('Number of samples : ',no_samples)"
   ]
  },
  {
   "cell_type": "code",
   "execution_count": 4,
   "metadata": {},
   "outputs": [],
   "source": [
    "no_cols = 11\n",
    "cols =np.asarray(['Contrast','Energy','Homogeneity','Correlation','Dissimilarity','ASM','Area','Perimeter','Epsilon','IsConvex','Class'])"
   ]
  },
  {
   "cell_type": "code",
   "execution_count": 5,
   "metadata": {},
   "outputs": [],
   "source": [
    "labeling_class = {\n",
    "  \"benign\": 0,\n",
    "  \"malignant\": 1,\n",
    "  \"no_tumor\": 2\n",
    "}"
   ]
  },
  {
   "cell_type": "code",
   "execution_count": 6,
   "metadata": {},
   "outputs": [],
   "source": [
    "def extract_feature():\n",
    "    features = np.ndarray((no_samples, no_cols))\n",
    "    \n",
    "    labels = os.listdir(input_data_dir)\n",
    "    print(labels)\n",
    "    i = 0\n",
    "    for label in labels:\n",
    "        image_names = os.listdir(os.path.join(input_data_dir, label))\n",
    "        total = len(image_names)\n",
    "        print(total)\n",
    "        for image_name in image_names:\n",
    "            img = imread(os.path.join(input_data_dir, label, image_name))\n",
    "            img = cv.cvtColor(img, cv.COLOR_RGB2GRAY)\n",
    "            \n",
    "            ret,thresh = cv.threshold(img,127,255,0)\n",
    "            im2,contours,hierarchy = cv.findContours(thresh, 1, 2)\n",
    "            cnt = contours[0]\n",
    "\n",
    "            area = cv.contourArea(cnt)\n",
    "            perimeter = cv.arcLength(cnt,True)\n",
    "            epsilon = 0.1*cv.arcLength(cnt,True)\n",
    "            k = cv.isContourConvex(cnt)\n",
    "            \n",
    "            S = preprocessing.MinMaxScaler((0,11)).fit_transform(img).astype(int)\n",
    "\n",
    "            g = greycomatrix(S, distances=[1], angles=[0], levels=256, symmetric=False, normed=False)\n",
    "\n",
    "            contrast = greycoprops(g, 'contrast')\n",
    "            energy = greycoprops(g,'energy')\n",
    "            homogeneity = greycoprops(g, 'homogeneity')\n",
    "            correlation = greycoprops(g, 'correlation')\n",
    "            dissimilarity = greycoprops(g, 'dissimilarity')\n",
    "            ASM = greycoprops(g, 'ASM')\n",
    "            \n",
    "            f_arr =  np.asarray([contrast[0][0],energy[0][0],homogeneity[0][0],correlation[0][0],dissimilarity[0][0],ASM[0][0],area,perimeter,epsilon,k, labeling_class[label]], dtype='object')\n",
    "            features[i] = f_arr\n",
    "            i += 1\n",
    "    df = pd.DataFrame(features, columns=cols)\n",
    "    df['Class'] = np.int64(df['Class'])\n",
    "    df.to_csv(\"data.csv\",index= False)"
   ]
  },
  {
   "cell_type": "code",
   "execution_count": 7,
   "metadata": {},
   "outputs": [
    {
     "name": "stdout",
     "output_type": "stream",
     "text": [
      "['benign', 'malignant', 'no_tumor']\n",
      "16\n",
      "138\n",
      "66\n"
     ]
    }
   ],
   "source": [
    "extract_feature()"
   ]
  },
  {
   "cell_type": "code",
   "execution_count": 8,
   "metadata": {},
   "outputs": [],
   "source": [
    "data_as_frame = pd.read_csv('data.csv')"
   ]
  },
  {
   "cell_type": "code",
   "execution_count": 9,
   "metadata": {},
   "outputs": [
    {
     "data": {
      "text/html": [
       "<div>\n",
       "<style scoped>\n",
       "    .dataframe tbody tr th:only-of-type {\n",
       "        vertical-align: middle;\n",
       "    }\n",
       "\n",
       "    .dataframe tbody tr th {\n",
       "        vertical-align: top;\n",
       "    }\n",
       "\n",
       "    .dataframe thead th {\n",
       "        text-align: right;\n",
       "    }\n",
       "</style>\n",
       "<table border=\"1\" class=\"dataframe\">\n",
       "  <thead>\n",
       "    <tr style=\"text-align: right;\">\n",
       "      <th></th>\n",
       "      <th>Contrast</th>\n",
       "      <th>Energy</th>\n",
       "      <th>Homogeneity</th>\n",
       "      <th>Correlation</th>\n",
       "      <th>Dissimilarity</th>\n",
       "      <th>ASM</th>\n",
       "      <th>Area</th>\n",
       "      <th>Perimeter</th>\n",
       "      <th>Epsilon</th>\n",
       "      <th>IsConvex</th>\n",
       "      <th>Class</th>\n",
       "    </tr>\n",
       "  </thead>\n",
       "  <tbody>\n",
       "    <tr>\n",
       "      <td>0</td>\n",
       "      <td>0.458577</td>\n",
       "      <td>0.964199</td>\n",
       "      <td>0.984987</td>\n",
       "      <td>0.911907</td>\n",
       "      <td>0.070014</td>\n",
       "      <td>0.929680</td>\n",
       "      <td>2.0</td>\n",
       "      <td>5.656854</td>\n",
       "      <td>0.565685</td>\n",
       "      <td>1.0</td>\n",
       "      <td>0</td>\n",
       "    </tr>\n",
       "    <tr>\n",
       "      <td>1</td>\n",
       "      <td>0.331137</td>\n",
       "      <td>0.983411</td>\n",
       "      <td>0.991778</td>\n",
       "      <td>0.841892</td>\n",
       "      <td>0.045642</td>\n",
       "      <td>0.967097</td>\n",
       "      <td>0.0</td>\n",
       "      <td>0.000000</td>\n",
       "      <td>0.000000</td>\n",
       "      <td>0.0</td>\n",
       "      <td>0</td>\n",
       "    </tr>\n",
       "    <tr>\n",
       "      <td>2</td>\n",
       "      <td>0.397629</td>\n",
       "      <td>0.963333</td>\n",
       "      <td>0.985258</td>\n",
       "      <td>0.922795</td>\n",
       "      <td>0.064784</td>\n",
       "      <td>0.928010</td>\n",
       "      <td>2.0</td>\n",
       "      <td>5.656854</td>\n",
       "      <td>0.565685</td>\n",
       "      <td>1.0</td>\n",
       "      <td>0</td>\n",
       "    </tr>\n",
       "    <tr>\n",
       "      <td>3</td>\n",
       "      <td>0.247455</td>\n",
       "      <td>0.985431</td>\n",
       "      <td>0.992373</td>\n",
       "      <td>0.850843</td>\n",
       "      <td>0.037936</td>\n",
       "      <td>0.971074</td>\n",
       "      <td>0.0</td>\n",
       "      <td>0.000000</td>\n",
       "      <td>0.000000</td>\n",
       "      <td>0.0</td>\n",
       "      <td>0</td>\n",
       "    </tr>\n",
       "    <tr>\n",
       "      <td>4</td>\n",
       "      <td>0.302476</td>\n",
       "      <td>0.981990</td>\n",
       "      <td>0.991358</td>\n",
       "      <td>0.875217</td>\n",
       "      <td>0.045188</td>\n",
       "      <td>0.964305</td>\n",
       "      <td>0.0</td>\n",
       "      <td>2.828427</td>\n",
       "      <td>0.282843</td>\n",
       "      <td>0.0</td>\n",
       "      <td>0</td>\n",
       "    </tr>\n",
       "  </tbody>\n",
       "</table>\n",
       "</div>"
      ],
      "text/plain": [
       "   Contrast    Energy  Homogeneity  Correlation  Dissimilarity       ASM  \\\n",
       "0  0.458577  0.964199     0.984987     0.911907       0.070014  0.929680   \n",
       "1  0.331137  0.983411     0.991778     0.841892       0.045642  0.967097   \n",
       "2  0.397629  0.963333     0.985258     0.922795       0.064784  0.928010   \n",
       "3  0.247455  0.985431     0.992373     0.850843       0.037936  0.971074   \n",
       "4  0.302476  0.981990     0.991358     0.875217       0.045188  0.964305   \n",
       "\n",
       "   Area  Perimeter   Epsilon  IsConvex  Class  \n",
       "0   2.0   5.656854  0.565685       1.0      0  \n",
       "1   0.0   0.000000  0.000000       0.0      0  \n",
       "2   2.0   5.656854  0.565685       1.0      0  \n",
       "3   0.0   0.000000  0.000000       0.0      0  \n",
       "4   0.0   2.828427  0.282843       0.0      0  "
      ]
     },
     "execution_count": 9,
     "metadata": {},
     "output_type": "execute_result"
    }
   ],
   "source": [
    "data_as_frame.head()"
   ]
  },
  {
   "cell_type": "markdown",
   "metadata": {},
   "source": [
    "All features extracted and saved into a dataframe."
   ]
  }
 ],
 "metadata": {
  "kernelspec": {
   "display_name": "Python 3",
   "language": "python",
   "name": "python3"
  },
  "language_info": {
   "codemirror_mode": {
    "name": "ipython",
    "version": 3
   },
   "file_extension": ".py",
   "mimetype": "text/x-python",
   "name": "python",
   "nbconvert_exporter": "python",
   "pygments_lexer": "ipython3",
   "version": "3.6.5"
  }
 },
 "nbformat": 4,
 "nbformat_minor": 2
}
